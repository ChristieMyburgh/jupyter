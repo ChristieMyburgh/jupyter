{
 "cells": [
  {
   "cell_type": "code",
   "execution_count": null,
   "metadata": {
    "collapsed": false
   },
   "outputs": [],
   "source": [
    "\n",
    "import plotly\n",
    "print(plotly.__version__)            # version 1.9.x required\n",
    "plotly.offline.init_notebook_mode() # run at the start of every notebook\n",
    "\n",
    "plotly.offline.iplot({\n",
    "    \"data\": [{\n",
    "        \"x\": [1, 2, 3],\n",
    "        \"y\": [4, 2, 5]\n",
    "    }],\n",
    "    \"layout\": {\n",
    "        \"title\": \"hello world\"\n",
    "    }\n",
    "})\n"
   ]
  },
  {
   "cell_type": "code",
   "execution_count": null,
   "metadata": {
    "collapsed": false
   },
   "outputs": [],
   "source": [
    "# (*) How you communicate with Plotly's servers\n",
    "import plotly.plotly as py \n",
    "\n",
    "\n",
    "# (*) Useful tools, e.g., get_sublots(), embed()\n",
    "import plotly.tools as tls\n",
    "\n",
    " # Every function in this module will communicate with an external plotly server\n",
    "py.iplot({                      # use `py.iplot` inside the ipython notebook\n",
    "    \"data\": [{\n",
    "        \"x\": [1, 2, 3],\n",
    "        \"y\": [4, 2, 5]\n",
    "    }],\n",
    "    \"layout\": {\n",
    "        \"title\": \"hello world\"\n",
    "    }\n",
    "}, filename='hello world',      # name of the file as saved in your plotly account\n",
    "   privacy='public')       "
   ]
  },
  {
   "cell_type": "code",
   "execution_count": null,
   "metadata": {
    "collapsed": false
   },
   "outputs": [],
   "source": [
    "\n",
    "\n",
    "# (1) Two lists of numbers\n",
    "x1 = [1, 2, 3, 5, 6]\n",
    "y1 = [1, 4.5, 7, 24, 38]\n",
    "\n",
    "# (2) Make dictionary linking x and y coordinate lists to 'x' and 'y' keys\n",
    "trace1 = dict(x=x1, y=y1)\n",
    "\n",
    "# (3) Make list of 1 trace, to be sent to Plotly\n",
    "data = [trace1]\n",
    "\n",
    "\n",
    "py.plot(data, filename='s0_first_plot', auto_open=False)"
   ]
  },
  {
   "cell_type": "code",
   "execution_count": null,
   "metadata": {
    "collapsed": false
   },
   "outputs": [],
   "source": [
    "# (@) Sent data to Plotly and show result in notebook \n",
    "py.iplot(data, filename='s0_first_plot')"
   ]
  },
  {
   "cell_type": "code",
   "execution_count": null,
   "metadata": {
    "collapsed": false
   },
   "outputs": [],
   "source": [
    "\n",
    "# (*) Graph objects to piece together plots\n",
    "from plotly.graph_objs import Data, Layout, Figure\n",
    "\n",
    "# (*) Import the Scatter graph object\n",
    "from plotly.graph_objs import Scatter\n",
    "\n",
    "# Make three lists of numbers\n",
    "x = [1, 2, 3, 5, 6]\n",
    "y1 = [1, 4.5, 7, 24, 38]\n",
    "y2 = [1, 4, 9, 25, 36]\n",
    "\n",
    "# (1.1) Make a 1st Scatter object\n",
    "trace1 = Scatter(\n",
    "    x=x,           # x-coordinates of trace\n",
    "    y=y1,          # y-coordinates of trace\n",
    "    mode='markers'   # scatter mode (more in UG section 1)\n",
    ")\n",
    "\n",
    "# (1.2) Make a 2nd Scatter object\n",
    "trace2 = Scatter(\n",
    "    x=x,           # same x-coordinates\n",
    "    y=y2,          # different y-coordinates\n",
    "    mode='lines'     # different scatter mode\n",
    ") \n",
    "\n",
    "# (2) Make Data object \n",
    "data = Data([trace1, trace2])  # (!) Data is list-like, must use [ ]\n",
    "\n",
    "# (3) Make Layout object (Layout is dict-like)\n",
    "layout = Layout(title='Fig 0.3: Some Experiment')\n",
    "\n",
    "# (4) Make Figure object (Figure is dict-like)\n",
    "fig = Figure(data=data, layout=layout) \n",
    "\n",
    "# (*) Import graph objects XAxis and YAxis\n",
    "from plotly.graph_objs import XAxis, YAxis\n",
    "\n",
    "# (6.1) Make XAxis object, add title key\n",
    "xaxis = XAxis(title='Some independent variable')\n",
    "\n",
    "# (6.2) Make YAxis object, add title key\n",
    "yaxis = YAxis(title='Some dependent variable')\n",
    "\n",
    "# (7) Update 'layout' key in the Figure object\n",
    "fig['layout'].update(\n",
    "    xaxis1=xaxis,  # link XAxis object to 'xaxis1' (corresp. to first/only x-axis)\n",
    "    yaxis1=yaxis   # similarly for 'yaxis1'\n",
    ")\n",
    "\n",
    "\n",
    "# (@) Send Figure object to Plotly and show plot in notebook\n",
    "py.iplot(fig, filename='s0_second-plot') \n",
    "\n"
   ]
  },
  {
   "cell_type": "code",
   "execution_count": 5,
   "metadata": {
    "collapsed": false
   },
   "outputs": [
    {
     "name": "stdout",
     "output_type": "stream",
     "text": [
      "9ibn2fdgnw\n"
     ]
    },
    {
     "data": {
      "text/html": [
       "<iframe id=\"igraph\" scrolling=\"no\" style=\"border:none;\"seamless=\"seamless\" src=\"https://plot.ly/~ChristieMyburgh/28.embed\" height=\"525\" width=\"100%\"></iframe>"
      ],
      "text/plain": [
       "<plotly.tools.PlotlyDisplay object>"
      ]
     },
     "execution_count": 5,
     "metadata": {},
     "output_type": "execute_result"
    }
   ],
   "source": [
    "\n",
    "# (*) To communicate with Plotly's server, sign in with credentials file\n",
    "import plotly.plotly as py\n",
    "\n",
    "# (*) Useful Python/Plotly tools\n",
    "import plotly.tools as tls\n",
    "\n",
    "# (*) Graph objects to piece together plots\n",
    "from plotly.graph_objs import *\n",
    "\n",
    "import numpy as np  # (*) numpy for math functions and arrays\n",
    "\n",
    "# (*) Graph objects to piece together plots\n",
    "from plotly.graph_objs import *\n",
    "\n",
    "import numpy as np  # (*) numpy for math functions and arrays\n",
    "\n",
    "stream_ids = tls.get_credentials_file()['stream_ids']\n",
    "\n",
    "# Get stream id from stream id list \n",
    "stream_id = stream_ids[0]\n",
    "\n",
    "print(stream_id)\n",
    "\n",
    "# Make instance of stream id object \n",
    "stream = Stream(\n",
    "    token=stream_id,  # (!) link stream id to 'token' key\n",
    "    maxpoints=80      # (!) keep a max of 80 pts on screen\n",
    ")\n",
    "\n",
    "# Initialize trace of streaming plot by embedding the unique stream_id\n",
    "trace1 = Scatter(\n",
    "    x=[],\n",
    "    y=[],\n",
    "    mode='lines+markers',\n",
    "    stream=stream         # (!) embed stream id, 1 per trace\n",
    ")\n",
    "\n",
    "data = Data([trace1])\n",
    "\n",
    "\n",
    "# Add title to layout object\n",
    "layout = Layout(title='Time Series')\n",
    "\n",
    "# Make a figure object\n",
    "fig = Figure(data=data, layout=layout)\n",
    "\n",
    "# (@) Send fig to Plotly, initialize streaming plot, open new tab\n",
    "unique_url = py.plot(fig, filename='s7_first-stream', auto_open=False)\n",
    "\n",
    "\n",
    "\n",
    "# (@) Make instance of the Stream link object, \n",
    "#     with same stream id as Stream id object\n",
    "s = py.Stream(stream_id)\n",
    "\n",
    "# (@) Open the stream\n",
    "s.open()\n",
    "\n",
    "# (*) Import module keep track and format current time\n",
    "import datetime\n",
    "import time\n",
    "\n",
    "i = 0    # a counter\n",
    "k = 5    # some shape parameter\n",
    "N = 200  # number of points to be plotted\n",
    "\n",
    "# Delay start of stream by 5 sec (time to switch tabs)\n",
    "time.sleep(5)\n",
    "\n",
    "while i<N:\n",
    "    i += 1   # add to counter\n",
    "\n",
    "    # Current time on x-axis, random numbers on y-axis\n",
    "    x = datetime.datetime.now().strftime('%Y-%m-%d %H:%M:%S.%f')\n",
    "    y = (np.cos(k*i/50.)*np.cos(i/50.)+np.random.randn(1))[0]\n",
    "\n",
    "    # (-) Both x and y are numbers (i.e. not lists nor arrays)\n",
    "\n",
    "    # (@) write to Plotly stream!\n",
    "    s.write(dict(x=x, y=y))\n",
    "\n",
    "    # (!) Write numbers to stream to append current data on plot,\n",
    "    #     write lists to overwrite existing data on plot (more in 7.2).\n",
    "\n",
    "    time.sleep(0.08)  # (!) plot a point every 80 ms, for smoother plotting\n",
    "\n",
    "# (@) Close the stream when done plotting\n",
    "s.close()\n",
    "\n",
    "tls.embed('https://plot.ly/~ChristieMyburgh/28/time-series/')"
   ]
  },
  {
   "cell_type": "code",
   "execution_count": null,
   "metadata": {
    "collapsed": true
   },
   "outputs": [],
   "source": []
  }
 ],
 "metadata": {
  "kernelspec": {
   "display_name": "Python 3",
   "language": "python",
   "name": "python3"
  },
  "language_info": {
   "codemirror_mode": {
    "name": "ipython",
    "version": 3
   },
   "file_extension": ".py",
   "mimetype": "text/x-python",
   "name": "python",
   "nbconvert_exporter": "python",
   "pygments_lexer": "ipython3",
   "version": "3.5.1"
  }
 },
 "nbformat": 4,
 "nbformat_minor": 0
}
